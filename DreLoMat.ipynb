{
  "nbformat": 4,
  "nbformat_minor": 0,
  "metadata": {
    "colab": {
      "provenance": []
    },
    "kernelspec": {
      "name": "python3",
      "display_name": "Python 3"
    },
    "language_info": {
      "name": "python"
    }
  },
  "cells": [
    {
      "cell_type": "code",
      "execution_count": null,
      "metadata": {
        "colab": {
          "base_uri": "https://localhost:8080/"
        },
        "id": "PNuL4b0rKQSK",
        "outputId": "62879081-8b65-4b2c-bd19-90d8db3c4bc1"
      },
      "outputs": [
        {
          "output_type": "stream",
          "name": "stdout",
          "text": [
            "Drive already mounted at /content/drive; to attempt to forcibly remount, call drive.mount(\"/content/drive\", force_remount=True).\n"
          ]
        }
      ],
      "source": [
        "import pandas as pd\n",
        "import numpy as np\n",
        "from sklearn.model_selection import train_test_split\n",
        "from sklearn.preprocessing import StandardScaler\n",
        "from sklearn.ensemble import RandomForestClassifier\n",
        "from sklearn.metrics import accuracy_score, roc_auc_score, classification_report # For building metrics\n",
        "import joblib  # For saving the model\n",
        "\n",
        "from google.colab import drive\n",
        "drive.mount('/content/drive')"
      ]
    },
    {
      "cell_type": "markdown",
      "source": [
        "\n",
        "\n",
        "*   To Read the Dataset\n",
        "*   Checking the null value\n",
        "*   Handling missing values\n",
        "\n",
        "\n"
      ],
      "metadata": {
        "id": "7tJxhfb3zDlH"
      }
    },
    {
      "cell_type": "code",
      "source": [
        "data=pd.read_csv('/content/drive/MyDrive/Colab Notebooks/delulo.csv')\n",
        "#print(data.head())\n",
        "null_value=data.isnull()\n",
        "null_value\n",
        "for i in range(null_value.shape[0]):\n",
        "    for j in range(null_value.shape[1]):\n",
        "        if null_value.iat[i, j]:\n",
        "            print(f\"Null value found at row {i}, column {data.columns[j]}\")\n",
        "else:\n",
        "    print(\"No Null valu found..\")\n",
        "\n",
        "data = data.dropna()\n",
        "data = pd.get_dummies(data, columns=['gender', 'hobbies', 'zodiac_sign'], drop_first=True)"
      ],
      "metadata": {
        "id": "YxHQ3w6rN0bR",
        "colab": {
          "base_uri": "https://localhost:8080/"
        },
        "collapsed": true,
        "outputId": "fa356c5b-1dd9-4b62-a950-674acce483e2"
      },
      "execution_count": null,
      "outputs": [
        {
          "output_type": "stream",
          "name": "stdout",
          "text": [
            "No Null valu found..\n"
          ]
        }
      ]
    },
    {
      "cell_type": "markdown",
      "source": [
        "X will be the features\n",
        "Y will be the target(1 or 0)"
      ],
      "metadata": {
        "id": "hJ_Nxonb0FCh"
      }
    },
    {
      "cell_type": "code",
      "source": [
        "X = data.drop('target', axis=1)\n",
        "y = data['target']"
      ],
      "metadata": {
        "id": "TYbUoq-POD7M"
      },
      "execution_count": null,
      "outputs": []
    },
    {
      "cell_type": "markdown",
      "source": [
        "Spliting the dataset for Training and testing"
      ],
      "metadata": {
        "id": "sjpDfg8az1FR"
      }
    },
    {
      "cell_type": "code",
      "source": [
        "X_train, X_test, y_train, y_test = train_test_split(X, y, test_size=0.2, random_state=42)"
      ],
      "metadata": {
        "id": "KomYiAG3fKrY"
      },
      "execution_count": null,
      "outputs": []
    },
    {
      "cell_type": "code",
      "source": [
        "scaler = StandardScaler()\n",
        "X_train = scaler.fit_transform(X_train)\n",
        "X_test = scaler.transform(X_test)"
      ],
      "metadata": {
        "id": "SwXKD6fNGDBD"
      },
      "execution_count": null,
      "outputs": []
    },
    {
      "cell_type": "code",
      "source": [
        "scaler = joblib.load('scaler.pkl')\n",
        "model = joblib.load('relationship_model.pkl')"
      ],
      "metadata": {
        "id": "FrtIAV3-5_kV"
      },
      "execution_count": null,
      "outputs": []
    },
    {
      "cell_type": "code",
      "source": [
        "\n",
        "joblib.dump(model, 'relationship_model.pkl')\n",
        "joblib.dump(scaler, 'scaler.pkl')"
      ],
      "metadata": {
        "id": "3-nsN9WMgQ_2",
        "colab": {
          "base_uri": "https://localhost:8080/"
        },
        "outputId": "e8908268-9fc6-4e65-ed07-292711e8121b"
      },
      "execution_count": null,
      "outputs": [
        {
          "output_type": "execute_result",
          "data": {
            "text/plain": [
              "['scaler.pkl']"
            ]
          },
          "metadata": {},
          "execution_count": 12
        }
      ]
    },
    {
      "cell_type": "code",
      "source": [
        "model = RandomForestClassifier(n_estimators=100, random_state=42)\n",
        "model.fit(X_train, y_train)"
      ],
      "metadata": {
        "colab": {
          "base_uri": "https://localhost:8080/",
          "height": 74
        },
        "id": "aD5ZNez5OeMr",
        "outputId": "815dc507-a9bf-41f0-844f-854f4c778def"
      },
      "execution_count": null,
      "outputs": [
        {
          "output_type": "execute_result",
          "data": {
            "text/plain": [
              "RandomForestClassifier(random_state=42)"
            ],
            "text/html": [
              "<style>#sk-container-id-1 {color: black;background-color: white;}#sk-container-id-1 pre{padding: 0;}#sk-container-id-1 div.sk-toggleable {background-color: white;}#sk-container-id-1 label.sk-toggleable__label {cursor: pointer;display: block;width: 100%;margin-bottom: 0;padding: 0.3em;box-sizing: border-box;text-align: center;}#sk-container-id-1 label.sk-toggleable__label-arrow:before {content: \"▸\";float: left;margin-right: 0.25em;color: #696969;}#sk-container-id-1 label.sk-toggleable__label-arrow:hover:before {color: black;}#sk-container-id-1 div.sk-estimator:hover label.sk-toggleable__label-arrow:before {color: black;}#sk-container-id-1 div.sk-toggleable__content {max-height: 0;max-width: 0;overflow: hidden;text-align: left;background-color: #f0f8ff;}#sk-container-id-1 div.sk-toggleable__content pre {margin: 0.2em;color: black;border-radius: 0.25em;background-color: #f0f8ff;}#sk-container-id-1 input.sk-toggleable__control:checked~div.sk-toggleable__content {max-height: 200px;max-width: 100%;overflow: auto;}#sk-container-id-1 input.sk-toggleable__control:checked~label.sk-toggleable__label-arrow:before {content: \"▾\";}#sk-container-id-1 div.sk-estimator input.sk-toggleable__control:checked~label.sk-toggleable__label {background-color: #d4ebff;}#sk-container-id-1 div.sk-label input.sk-toggleable__control:checked~label.sk-toggleable__label {background-color: #d4ebff;}#sk-container-id-1 input.sk-hidden--visually {border: 0;clip: rect(1px 1px 1px 1px);clip: rect(1px, 1px, 1px, 1px);height: 1px;margin: -1px;overflow: hidden;padding: 0;position: absolute;width: 1px;}#sk-container-id-1 div.sk-estimator {font-family: monospace;background-color: #f0f8ff;border: 1px dotted black;border-radius: 0.25em;box-sizing: border-box;margin-bottom: 0.5em;}#sk-container-id-1 div.sk-estimator:hover {background-color: #d4ebff;}#sk-container-id-1 div.sk-parallel-item::after {content: \"\";width: 100%;border-bottom: 1px solid gray;flex-grow: 1;}#sk-container-id-1 div.sk-label:hover label.sk-toggleable__label {background-color: #d4ebff;}#sk-container-id-1 div.sk-serial::before {content: \"\";position: absolute;border-left: 1px solid gray;box-sizing: border-box;top: 0;bottom: 0;left: 50%;z-index: 0;}#sk-container-id-1 div.sk-serial {display: flex;flex-direction: column;align-items: center;background-color: white;padding-right: 0.2em;padding-left: 0.2em;position: relative;}#sk-container-id-1 div.sk-item {position: relative;z-index: 1;}#sk-container-id-1 div.sk-parallel {display: flex;align-items: stretch;justify-content: center;background-color: white;position: relative;}#sk-container-id-1 div.sk-item::before, #sk-container-id-1 div.sk-parallel-item::before {content: \"\";position: absolute;border-left: 1px solid gray;box-sizing: border-box;top: 0;bottom: 0;left: 50%;z-index: -1;}#sk-container-id-1 div.sk-parallel-item {display: flex;flex-direction: column;z-index: 1;position: relative;background-color: white;}#sk-container-id-1 div.sk-parallel-item:first-child::after {align-self: flex-end;width: 50%;}#sk-container-id-1 div.sk-parallel-item:last-child::after {align-self: flex-start;width: 50%;}#sk-container-id-1 div.sk-parallel-item:only-child::after {width: 0;}#sk-container-id-1 div.sk-dashed-wrapped {border: 1px dashed gray;margin: 0 0.4em 0.5em 0.4em;box-sizing: border-box;padding-bottom: 0.4em;background-color: white;}#sk-container-id-1 div.sk-label label {font-family: monospace;font-weight: bold;display: inline-block;line-height: 1.2em;}#sk-container-id-1 div.sk-label-container {text-align: center;}#sk-container-id-1 div.sk-container {/* jupyter's `normalize.less` sets `[hidden] { display: none; }` but bootstrap.min.css set `[hidden] { display: none !important; }` so we also need the `!important` here to be able to override the default hidden behavior on the sphinx rendered scikit-learn.org. See: https://github.com/scikit-learn/scikit-learn/issues/21755 */display: inline-block !important;position: relative;}#sk-container-id-1 div.sk-text-repr-fallback {display: none;}</style><div id=\"sk-container-id-1\" class=\"sk-top-container\"><div class=\"sk-text-repr-fallback\"><pre>RandomForestClassifier(random_state=42)</pre><b>In a Jupyter environment, please rerun this cell to show the HTML representation or trust the notebook. <br />On GitHub, the HTML representation is unable to render, please try loading this page with nbviewer.org.</b></div><div class=\"sk-container\" hidden><div class=\"sk-item\"><div class=\"sk-estimator sk-toggleable\"><input class=\"sk-toggleable__control sk-hidden--visually\" id=\"sk-estimator-id-1\" type=\"checkbox\" checked><label for=\"sk-estimator-id-1\" class=\"sk-toggleable__label sk-toggleable__label-arrow\">RandomForestClassifier</label><div class=\"sk-toggleable__content\"><pre>RandomForestClassifier(random_state=42)</pre></div></div></div></div></div>"
            ]
          },
          "metadata": {},
          "execution_count": 14
        }
      ]
    },
    {
      "cell_type": "code",
      "source": [],
      "metadata": {
        "id": "BSOnbNQ9CjK2"
      },
      "execution_count": null,
      "outputs": []
    },
    {
      "cell_type": "code",
      "source": [
        "y_pred = model.predict(X_test)\n",
        "y_prob = model.predict_proba(X_test)[:, 1]  # Probability of the positive class"
      ],
      "metadata": {
        "id": "q3nu_Vz-fo9m"
      },
      "execution_count": null,
      "outputs": []
    },
    {
      "cell_type": "code",
      "source": [
        "accuracy = accuracy_score(y_test, y_pred)\n",
        "roc_auc = roc_auc_score(y_test, y_prob)\n",
        "report = classification_report(y_test, y_pred)"
      ],
      "metadata": {
        "id": "a2d7IDgGCxq_"
      },
      "execution_count": null,
      "outputs": []
    },
    {
      "cell_type": "code",
      "source": [
        "#calculating the accuracy parameter\n",
        "print(f'Accuracy: {accuracy}')\n",
        "print(f'ROC AUC Score: {roc_auc}')\n",
        "print('Classification Report:')\n",
        "print(report)"
      ],
      "metadata": {
        "collapsed": true,
        "id": "oP5jz-7_DIId"
      },
      "execution_count": null,
      "outputs": []
    },
    {
      "cell_type": "code",
      "source": [
        "#input from the user for prediction\n",
        "name=input(\"Enter Your name :\").capitalize()\n",
        "age = int(input(\"Enter your age: \"))\n",
        "income = float(input(\"Enter your income: \"))\n",
        "hobbies = input(\"Enter your hobby (reading, sports, music, travel, gaming): \").strip().lower()\n",
        "gender = input(\"Enter your gender (male, female): \").strip().lower()\n",
        "zodiac_sign = input(\"Enter your zodiac sign: \").strip().capitalize()"
      ],
      "metadata": {
        "colab": {
          "base_uri": "https://localhost:8080/"
        },
        "collapsed": true,
        "id": "-_3z0AaDDd2G",
        "outputId": "2e7773a0-fa74-46ee-f1b9-13ba281e9049"
      },
      "execution_count": null,
      "outputs": [
        {
          "name": "stdout",
          "output_type": "stream",
          "text": [
            "Enter Your name :Abi\n",
            "Enter your age: 19\n",
            "Enter your income: 50000\n",
            "Enter your hobby (reading, sports, music, travel, gaming): gaing\n",
            "Enter your gender (male, female): male\n",
            "Enter your zodiac sign: Scorpio\n"
          ]
        }
      ]
    },
    {
      "cell_type": "code",
      "source": [
        "#Input Comparision from the user\n",
        "new_data_dict = {\n",
        "    'age': [age],\n",
        "    'income': [income],\n",
        "    'gender_male': [1 if gender == 'male' else 0],\n",
        "    'hobbies_reading': [1 if hobbies == 'reading' else 0],\n",
        "    'hobbies_sports': [1 if hobbies == 'sports' else 0],\n",
        "    'hobbies_music': [1 if hobbies == 'music' else 0],\n",
        "    'hobbies_travel': [1 if hobbies == 'travel' else 0],\n",
        "    'hobbies_gaming': [1 if hobbies == 'gaming' else 0],\n",
        "    'zodiac_sign_Aquarius': [1 if zodiac_sign == 'Aquarius' else 0],\n",
        "    'zodiac_sign_Aries': [1 if zodiac_sign == 'Aries' else 0],\n",
        "    'zodiac_sign_Cancer': [1 if zodiac_sign == 'Cancer' else 0],\n",
        "    'zodiac_sign_Capricorn': [1 if zodiac_sign == 'Capricorn' else 0],\n",
        "    'zodiac_sign_Gemini': [1 if zodiac_sign == 'Gemini' else 0],\n",
        "    'zodiac_sign_Leo': [1 if zodiac_sign == 'Leo' else 0],\n",
        "    'zodiac_sign_Libra': [1 if zodiac_sign == 'Libra' else 0],\n",
        "    'zodiac_sign_Pisces': [1 if zodiac_sign == 'Pisces' else 0],\n",
        "    'zodiac_sign_Sagittarius': [1 if zodiac_sign == 'Sagittarius' else 0],\n",
        "    'zodiac_sign_Scorpio': [1 if zodiac_sign == 'Scorpio' else 0],\n",
        "    'zodiac_sign_Taurus': [1 if zodiac_sign == 'Taurus' else 0],\n",
        "    'zodiac_sign_Virgo': [1 if zodiac_sign == 'Virgo' else 0],\n",
        "}"
      ],
      "metadata": {
        "id": "lu0rotGyDiQP"
      },
      "execution_count": null,
      "outputs": []
    },
    {
      "cell_type": "code",
      "source": [
        "new_data = pd.DataFrame(new_data_dict)\n",
        "\n",
        "new_data = new_data.reindex(columns=X.columns, fill_value=0)\n",
        "\n",
        "new_data_scaled = scaler.transform(new_data)\n",
        "\n",
        "new_prob_old = model.predict_proba(new_data_scaled)[:, 1]\n",
        "print(f'Probability of getting into a relationship: {new_prob_old[0] * 100:.2f}%')"
      ],
      "metadata": {
        "colab": {
          "base_uri": "https://localhost:8080/"
        },
        "id": "0XXiYjQaDjTi",
        "outputId": "383a74c1-86f4-4254-c460-2093c5667f28"
      },
      "execution_count": null,
      "outputs": [
        {
          "output_type": "stream",
          "name": "stdout",
          "text": [
            "Probability of getting into a relationship: 52.00%\n"
          ]
        }
      ]
    },
    {
      "cell_type": "code",
      "source": [
        "new_data = pd.DataFrame({\n",
        "    \"Name\": [name],\n",
        "    \"Age\": [age],\n",
        "    \"Income\": [income],\n",
        "    \"Hobbies\": [hobbies],\n",
        "    \"Gender\": [gender],\n",
        "    \"Zodiac Sign\": [zodiac_sign],\n",
        "    \"Percentage\": new_prob_old*100\n",
        "})"
      ],
      "metadata": {
        "id": "WIzv8d8kuWuM"
      },
      "execution_count": null,
      "outputs": []
    },
    {
      "cell_type": "code",
      "source": [
        "file_name=\"input.csv\""
      ],
      "metadata": {
        "id": "Fh8jeVICvZj9"
      },
      "execution_count": null,
      "outputs": []
    },
    {
      "cell_type": "code",
      "source": [
        "# Append the new data to the DataFrame and save to CSV\n",
        "df = pd.concat([df, new_data], ignore_index=True)\n",
        "df.to_csv(\"input.csv\", index=False)\n",
        "\n",
        "print(\"New data appended.\")"
      ],
      "metadata": {
        "colab": {
          "base_uri": "https://localhost:8080/"
        },
        "id": "JRnXl_pztw3c",
        "outputId": "01ba7e24-67d9-4859-e46b-087e6ce446cd"
      },
      "execution_count": null,
      "outputs": [
        {
          "output_type": "stream",
          "name": "stdout",
          "text": [
            "New data appended.\n"
          ]
        }
      ]
    },
    {
      "cell_type": "code",
      "source": [],
      "metadata": {
        "id": "xmtbb9Djt3K9"
      },
      "execution_count": null,
      "outputs": []
    },
    {
      "cell_type": "code",
      "source": [
        "import pandas as pd\n",
        "import os\n",
        "\n",
        "def are_compatible_zodiac_signs(sign1, sign2):\n",
        "    compatible_pairs = {\n",
        "        'Aries': ['Leo', 'Sagittarius'],\n",
        "        'Taurus': ['Virgo', 'Capricorn'],\n",
        "        'Gemini': ['Libra', 'Aquarius'],\n",
        "        'Cancer': ['Scorpio', 'Pisces'],\n",
        "        'Leo': ['Aries', 'Sagittarius'],\n",
        "        'Virgo': ['Taurus', 'Capricorn'],\n",
        "        'Libra': ['Gemini', 'Aquarius'],\n",
        "        'Scorpio': ['Cancer', 'Pisces'],\n",
        "        'Sagittarius': ['Aries', 'Leo'],\n",
        "        'Capricorn': ['Taurus', 'Virgo'],\n",
        "        'Aquarius': ['Gemini', 'Libra'],\n",
        "        'Pisces': ['Cancer', 'Scorpio']\n",
        "    }\n",
        "    return sign2 in compatible_pairs.get(sign1, [])\n",
        "\n",
        "\n",
        "\n",
        "if os.path.isfile(file_name):\n",
        "    df = pd.read_csv(file_name)\n",
        "else:\n",
        "    df = pd.DataFrame(columns=[\"Name\", \"Age\", \"Income\", \"Hobbies\", \"Gender\", \"Zodiac Sign\", \"Percentage\"])\n",
        "\n",
        "\n",
        "new_prob = model.predict_proba(new_data_scaled)[:, 1]  # Example probability; replace with your actual calculation\n",
        "Percentage =np.round(100 * new_prob, 2)\n",
        "\n",
        "\n",
        "\n",
        "gender_filtered_df = df[df['Gender'] != new_data['Gender'].iloc[0]]\n",
        "\n",
        "matches = gender_filtered_df[\n",
        "    (abs(gender_filtered_df['Income'] - new_data['Income'].iloc[0]) <= 10000) &\n",
        "    (\n",
        "        ((gender_filtered_df['Gender'] == 'male') & (new_data['Gender'].iloc[0] == 'female')) |\n",
        "        ((gender_filtered_df['Gender'] == 'female') & (new_data['Gender'].iloc[0] == 'male'))\n",
        "    ) &\n",
        "    (gender_filtered_df['Zodiac Sign'].apply(lambda x: are_compatible_zodiac_signs(x, new_data['Zodiac Sign'].iloc[0]))) &\n",
        "    (abs(gender_filtered_df['Income'].astype(float) - new_data['Income'].iloc[0]) <= 10000)\n",
        "]\n",
        "\n",
        "# Report matches\n",
        "if not matches.empty:\n",
        "    print(\"Matches found:\")\n",
        "    print(matches)\n",
        "else:\n",
        "    print(\"No matches found.\")\n",
        "\n",
        "\n",
        "\n",
        "\n"
      ],
      "metadata": {
        "colab": {
          "base_uri": "https://localhost:8080/"
        },
        "collapsed": true,
        "id": "NRb7LzL8V8yc",
        "outputId": "51acf053-ce72-4dc2-a69e-5593539283a8"
      },
      "execution_count": null,
      "outputs": [
        {
          "output_type": "stream",
          "name": "stdout",
          "text": [
            "No matches found.\n"
          ]
        }
      ]
    }
  ]
}